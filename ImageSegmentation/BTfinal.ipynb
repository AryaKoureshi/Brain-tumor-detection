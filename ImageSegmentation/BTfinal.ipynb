{
  "nbformat": 4,
  "nbformat_minor": 0,
  "metadata": {
    "colab": {
      "name": "BTfinal.ipynb",
      "provenance": [],
      "collapsed_sections": []
    },
    "kernelspec": {
      "name": "python3",
      "display_name": "Python 3"
    },
    "language_info": {
      "name": "python"
    },
    "accelerator": "GPU"
  },
  "cells": [
    {
      "cell_type": "code",
      "execution_count": 1,
      "metadata": {
        "id": "o9XuIe0U1ylG"
      },
      "outputs": [],
      "source": [
        "# imports\n",
        "import sys\n",
        "sys.path.insert(1, '/content/drive/MyDrive/Python/Brain_Tumor/')\n",
        "import model_bt\n",
        "from tensorflow.keras.models import save_model, Model\n",
        "from tensorflow.keras.layers import Conv2D\n",
        "from tensorflow.keras.optimizers import Adam\n",
        "import cv2\n",
        "import glob\n",
        "import skimage.transform as trans\n",
        "import numpy as np"
      ]
    },
    {
      "cell_type": "code",
      "source": [
        "xt_path = \"/content/drive/MyDrive/Python/Datasets/Brain_Tumor/Br35H-Mask-RCNN/Train_New/\"\n",
        "xt_images = glob.glob(xt_path + \"*.png\")\n",
        "xt_images.sort()\n",
        "x_t = []\n",
        "for img in xt_images:\n",
        "   image = cv2.imread(img, cv2.IMREAD_GRAYSCALE)\n",
        "   image = image / 255\n",
        "   image = trans.resize(image,(256,256))\n",
        "   x_t.append(image)\n",
        "\n",
        "xa_path = \"/content/drive/MyDrive/Python/Datasets/Brain_Tumor/Br35H-Mask-RCNN/Annotation_Train_New/\"\n",
        "xa_images = glob.glob(xa_path + \"*.png\")\n",
        "xa_images.sort()\n",
        "x_a = []\n",
        "for msk in xa_images:\n",
        "   mask = cv2.imread(msk, cv2.IMREAD_GRAYSCALE)\n",
        "   mask = mask /255\n",
        "   mask = trans.resize(mask,(256,256))\n",
        "   mask[mask != 0] = 1\n",
        "   x_a.append(mask)\n",
        "'''\n",
        "yt_path = \"/content/drive/MyDrive/Python/Datasets/Brain_Tumor/Br35H-Mask-RCNN/Test_New/\"\n",
        "yt_images = glob.glob(yt_path + \"*.png\")\n",
        "yt_images.sort()\n",
        "y_t = []\n",
        "for img in yt_images:\n",
        "   image = cv2.imread(img, cv2.IMREAD_GRAYSCALE)\n",
        "   image = image / 255\n",
        "   image = trans.resize(image,(512,512))\n",
        "   y_t.append(image)\n",
        "\n",
        "ya_path = \"/content/drive/MyDrive/Python/Datasets/Brain_Tumor/Br35H-Mask-RCNN/Annotation_Test_New/\"\n",
        "ya_images = glob.glob(ya_path + \"*.png\")\n",
        "ya_images.sort()\n",
        "y_a = []\n",
        "for msk in ya_images:\n",
        "   mask = cv2.imread(msk, cv2.IMREAD_GRAYSCALE)\n",
        "   mask = mask /255\n",
        "   mask = trans.resize(mask,(512,512))\n",
        "   mask[mask != 0] = 1\n",
        "   y_a.append(mask)\n",
        "\n",
        "del(mask, msk, image, img, ya_path, ya_images, xa_path, xa_images, yt_path, yt_images, xt_path, xt_images)\n",
        "'''"
      ],
      "metadata": {
        "colab": {
          "base_uri": "https://localhost:8080/",
          "height": 122
        },
        "id": "PArQ1UZl6GGW",
        "outputId": "3845412b-aff2-4c63-cf40-cced2b5ec5dc"
      },
      "execution_count": 2,
      "outputs": [
        {
          "output_type": "execute_result",
          "data": {
            "application/vnd.google.colaboratory.intrinsic+json": {
              "type": "string"
            },
            "text/plain": [
              "'\\nyt_path = \"/content/drive/MyDrive/Python/Datasets/Brain_Tumor/Br35H-Mask-RCNN/Test_New/\"\\nyt_images = glob.glob(yt_path + \"*.png\")\\nyt_images.sort()\\ny_t = []\\nfor img in yt_images:\\n   image = cv2.imread(img, cv2.IMREAD_GRAYSCALE)\\n   image = image / 255\\n   image = trans.resize(image,(512,512))\\n   y_t.append(image)\\n\\nya_path = \"/content/drive/MyDrive/Python/Datasets/Brain_Tumor/Br35H-Mask-RCNN/Annotation_Test_New/\"\\nya_images = glob.glob(ya_path + \"*.png\")\\nya_images.sort()\\ny_a = []\\nfor msk in ya_images:\\n   mask = cv2.imread(msk, cv2.IMREAD_GRAYSCALE)\\n   mask = mask /255\\n   mask = trans.resize(mask,(512,512))\\n   mask[mask != 0] = 1\\n   y_a.append(mask)\\n\\ndel(mask, msk, image, img, ya_path, ya_images, xa_path, xa_images, yt_path, yt_images, xt_path, xt_images)\\n'"
            ]
          },
          "metadata": {},
          "execution_count": 2
        }
      ]
    },
    {
      "cell_type": "code",
      "source": [
        "# prepare data\n",
        "x_t = np.array(x_t)\n",
        "x_a = np.array(x_a)\n",
        "#y_t = np.array(y_t)\n",
        "#y_a = np.array(y_a)\n",
        "x_t = np.reshape(x_t, (len(x_t), 256, 256, 1))\n",
        "x_a = np.reshape(x_a, (len(x_a), 256, 256, 1))\n",
        "#y_t = np.reshape(y_t, (len(y_t), 512, 512, 1))\n",
        "#y_a = np.reshape(y_a, (len(y_a), 512, 512, 1))"
      ],
      "metadata": {
        "id": "LuqxnGb-6i2O"
      },
      "execution_count": 3,
      "outputs": []
    },
    {
      "cell_type": "code",
      "source": [
        "# train model\n",
        "BTfinder = model_bt.unet_bt()\n",
        "#BTfinder.layers.pop()\n",
        "#BTfinder.outputs = [BTfinder.layers[-1].output]\n",
        "#BTfinder.layers[-1].outbound_nodes = []\n",
        "#x = Conv2D(1, 1, activation = 'sigmoid')(BTfinder.output)\n",
        "#BTfinder = Model(BTfinder.input, x)\n",
        "#for layer in BTfinder.layers[:8]:\n",
        "#   layer.trainable = False\n",
        "BTfinder.compile(optimizer = Adam(lr = 1e-4),\n",
        "                 loss = 'binary_crossentropy',\n",
        "                 metrics = ['accuracy'])\n",
        "\n",
        "BTfinder.summary()\n",
        "BTfinder.fit(x_t, x_a,\n",
        "             epochs=10,\n",
        "             batch_size=2,\n",
        "             shuffle=True)\n",
        "save_model(BTfinder, '/content/drive/MyDrive/Python/Datasets/Brain_Tumor/Br35H-Mask-RCNN/BTfinderFINAL.h5')\n"
      ],
      "metadata": {
        "colab": {
          "base_uri": "https://localhost:8080/"
        },
        "id": "57CSpOP06psQ",
        "outputId": "7a43b122-a538-438d-972a-4238fc3b2b49"
      },
      "execution_count": 4,
      "outputs": [
        {
          "output_type": "stream",
          "name": "stderr",
          "text": [
            "/usr/local/lib/python3.7/dist-packages/keras/optimizer_v2/adam.py:105: UserWarning: The `lr` argument is deprecated, use `learning_rate` instead.\n",
            "  super(Adam, self).__init__(name, **kwargs)\n"
          ]
        },
        {
          "output_type": "stream",
          "name": "stdout",
          "text": [
            "Model: \"model\"\n",
            "__________________________________________________________________________________________________\n",
            " Layer (type)                   Output Shape         Param #     Connected to                     \n",
            "==================================================================================================\n",
            " input_1 (InputLayer)           [(None, 256, 256, 1  0           []                               \n",
            "                                )]                                                                \n",
            "                                                                                                  \n",
            " conv2d (Conv2D)                (None, 256, 256, 64  640         ['input_1[0][0]']                \n",
            "                                )                                                                 \n",
            "                                                                                                  \n",
            " conv2d_1 (Conv2D)              (None, 256, 256, 64  36928       ['conv2d[0][0]']                 \n",
            "                                )                                                                 \n",
            "                                                                                                  \n",
            " max_pooling2d (MaxPooling2D)   (None, 128, 128, 64  0           ['conv2d_1[0][0]']               \n",
            "                                )                                                                 \n",
            "                                                                                                  \n",
            " conv2d_2 (Conv2D)              (None, 128, 128, 12  73856       ['max_pooling2d[0][0]']          \n",
            "                                8)                                                                \n",
            "                                                                                                  \n",
            " conv2d_3 (Conv2D)              (None, 128, 128, 12  147584      ['conv2d_2[0][0]']               \n",
            "                                8)                                                                \n",
            "                                                                                                  \n",
            " max_pooling2d_1 (MaxPooling2D)  (None, 64, 64, 128)  0          ['conv2d_3[0][0]']               \n",
            "                                                                                                  \n",
            " conv2d_4 (Conv2D)              (None, 64, 64, 256)  295168      ['max_pooling2d_1[0][0]']        \n",
            "                                                                                                  \n",
            " conv2d_5 (Conv2D)              (None, 64, 64, 256)  590080      ['conv2d_4[0][0]']               \n",
            "                                                                                                  \n",
            " max_pooling2d_2 (MaxPooling2D)  (None, 32, 32, 256)  0          ['conv2d_5[0][0]']               \n",
            "                                                                                                  \n",
            " conv2d_6 (Conv2D)              (None, 32, 32, 512)  1180160     ['max_pooling2d_2[0][0]']        \n",
            "                                                                                                  \n",
            " conv2d_7 (Conv2D)              (None, 32, 32, 512)  2359808     ['conv2d_6[0][0]']               \n",
            "                                                                                                  \n",
            " dropout (Dropout)              (None, 32, 32, 512)  0           ['conv2d_7[0][0]']               \n",
            "                                                                                                  \n",
            " max_pooling2d_3 (MaxPooling2D)  (None, 16, 16, 512)  0          ['dropout[0][0]']                \n",
            "                                                                                                  \n",
            " conv2d_8 (Conv2D)              (None, 16, 16, 1024  4719616     ['max_pooling2d_3[0][0]']        \n",
            "                                )                                                                 \n",
            "                                                                                                  \n",
            " conv2d_9 (Conv2D)              (None, 16, 16, 1024  9438208     ['conv2d_8[0][0]']               \n",
            "                                )                                                                 \n",
            "                                                                                                  \n",
            " dropout_1 (Dropout)            (None, 16, 16, 1024  0           ['conv2d_9[0][0]']               \n",
            "                                )                                                                 \n",
            "                                                                                                  \n",
            " up_sampling2d (UpSampling2D)   (None, 32, 32, 1024  0           ['dropout_1[0][0]']              \n",
            "                                )                                                                 \n",
            "                                                                                                  \n",
            " conv2d_10 (Conv2D)             (None, 32, 32, 512)  2097664     ['up_sampling2d[0][0]']          \n",
            "                                                                                                  \n",
            " concatenate (Concatenate)      (None, 32, 32, 1024  0           ['dropout[0][0]',                \n",
            "                                )                                 'conv2d_10[0][0]']              \n",
            "                                                                                                  \n",
            " conv2d_11 (Conv2D)             (None, 32, 32, 512)  4719104     ['concatenate[0][0]']            \n",
            "                                                                                                  \n",
            " conv2d_12 (Conv2D)             (None, 32, 32, 512)  2359808     ['conv2d_11[0][0]']              \n",
            "                                                                                                  \n",
            " up_sampling2d_1 (UpSampling2D)  (None, 64, 64, 512)  0          ['conv2d_12[0][0]']              \n",
            "                                                                                                  \n",
            " conv2d_13 (Conv2D)             (None, 64, 64, 256)  524544      ['up_sampling2d_1[0][0]']        \n",
            "                                                                                                  \n",
            " concatenate_1 (Concatenate)    (None, 64, 64, 512)  0           ['conv2d_5[0][0]',               \n",
            "                                                                  'conv2d_13[0][0]']              \n",
            "                                                                                                  \n",
            " conv2d_14 (Conv2D)             (None, 64, 64, 256)  1179904     ['concatenate_1[0][0]']          \n",
            "                                                                                                  \n",
            " conv2d_15 (Conv2D)             (None, 64, 64, 256)  590080      ['conv2d_14[0][0]']              \n",
            "                                                                                                  \n",
            " up_sampling2d_2 (UpSampling2D)  (None, 128, 128, 25  0          ['conv2d_15[0][0]']              \n",
            "                                6)                                                                \n",
            "                                                                                                  \n",
            " conv2d_16 (Conv2D)             (None, 128, 128, 12  131200      ['up_sampling2d_2[0][0]']        \n",
            "                                8)                                                                \n",
            "                                                                                                  \n",
            " concatenate_2 (Concatenate)    (None, 128, 128, 25  0           ['conv2d_3[0][0]',               \n",
            "                                6)                                'conv2d_16[0][0]']              \n",
            "                                                                                                  \n",
            " conv2d_17 (Conv2D)             (None, 128, 128, 12  295040      ['concatenate_2[0][0]']          \n",
            "                                8)                                                                \n",
            "                                                                                                  \n",
            " conv2d_18 (Conv2D)             (None, 128, 128, 12  147584      ['conv2d_17[0][0]']              \n",
            "                                8)                                                                \n",
            "                                                                                                  \n",
            " up_sampling2d_3 (UpSampling2D)  (None, 256, 256, 12  0          ['conv2d_18[0][0]']              \n",
            "                                8)                                                                \n",
            "                                                                                                  \n",
            " conv2d_19 (Conv2D)             (None, 256, 256, 64  32832       ['up_sampling2d_3[0][0]']        \n",
            "                                )                                                                 \n",
            "                                                                                                  \n",
            " concatenate_3 (Concatenate)    (None, 256, 256, 12  0           ['conv2d_1[0][0]',               \n",
            "                                8)                                'conv2d_19[0][0]']              \n",
            "                                                                                                  \n",
            " conv2d_20 (Conv2D)             (None, 256, 256, 64  73792       ['concatenate_3[0][0]']          \n",
            "                                )                                                                 \n",
            "                                                                                                  \n",
            " conv2d_21 (Conv2D)             (None, 256, 256, 64  36928       ['conv2d_20[0][0]']              \n",
            "                                )                                                                 \n",
            "                                                                                                  \n",
            " conv2d_22 (Conv2D)             (None, 256, 256, 2)  1154        ['conv2d_21[0][0]']              \n",
            "                                                                                                  \n",
            " conv2d_23 (Conv2D)             (None, 256, 256, 1)  3           ['conv2d_22[0][0]']              \n",
            "                                                                                                  \n",
            "==================================================================================================\n",
            "Total params: 31,031,685\n",
            "Trainable params: 31,031,685\n",
            "Non-trainable params: 0\n",
            "__________________________________________________________________________________________________\n",
            "Epoch 1/10\n",
            "910/910 [==============================] - 469s 496ms/step - loss: 0.1609 - accuracy: 0.9441\n",
            "Epoch 2/10\n",
            "910/910 [==============================] - 452s 496ms/step - loss: 0.1083 - accuracy: 0.9447\n",
            "Epoch 3/10\n",
            "910/910 [==============================] - 451s 496ms/step - loss: 0.0860 - accuracy: 0.9716\n",
            "Epoch 4/10\n",
            "910/910 [==============================] - 451s 495ms/step - loss: 0.0786 - accuracy: 0.9745\n",
            "Epoch 5/10\n",
            "910/910 [==============================] - 450s 495ms/step - loss: 0.0685 - accuracy: 0.9781\n",
            "Epoch 6/10\n",
            "910/910 [==============================] - 450s 495ms/step - loss: 0.0646 - accuracy: 0.9794\n",
            "Epoch 7/10\n",
            "910/910 [==============================] - 450s 494ms/step - loss: 0.0624 - accuracy: 0.9797\n",
            "Epoch 8/10\n",
            "910/910 [==============================] - 450s 494ms/step - loss: 0.0611 - accuracy: 0.9803\n",
            "Epoch 9/10\n",
            "910/910 [==============================] - 451s 496ms/step - loss: 0.0541 - accuracy: 0.9826\n",
            "Epoch 10/10\n",
            "910/910 [==============================] - 451s 496ms/step - loss: 0.0619 - accuracy: 0.9795\n"
          ]
        }
      ]
    },
    {
      "cell_type": "code",
      "source": [
        "BTfinder.save_weights('/content/drive/MyDrive/Python/Datasets/Brain_Tumor/Br35H-Mask-RCNN/weights.hdf5')"
      ],
      "metadata": {
        "id": "PfDKXYaJI4ud"
      },
      "execution_count": 5,
      "outputs": []
    },
    {
      "cell_type": "code",
      "source": [
        "from tensorflow.keras.models import load_model\n",
        "from tensorflow.keras import optimizers\n",
        "import matplotlib.pyplot as plt\n",
        "yt_path = \"/content/drive/MyDrive/Python/Datasets/Brain_Tumor/test/\"\n",
        "yt_images = glob.glob(yt_path + \"*.jpg\")\n",
        "yt_images.sort()\n",
        "y_t = []\n",
        "for img in yt_images:\n",
        "   image = cv2.imread(img, cv2.IMREAD_GRAYSCALE)\n",
        "   image = image / 255\n",
        "   image = trans.resize(image,(256,256))\n",
        "   y_t.append(image)\n",
        "'''\n",
        "ya_path = \"/content/drive/MyDrive/Python/Datasets/Brain_Tumor/Br35H-Mask-RCNN/Annotation_Test_New/\"\n",
        "ya_images = glob.glob(ya_path + \"*.png\")\n",
        "ya_images.sort()\n",
        "y_a = []\n",
        "for msk in ya_images:\n",
        "   mask = cv2.imread(msk, cv2.IMREAD_GRAYSCALE)\n",
        "   mask = mask /255\n",
        "   mask = trans.resize(mask,(512,512))\n",
        "   mask[mask != 0] = 1\n",
        "   y_a.append(mask)\n",
        "'''\n",
        "for i in range(len(y_t)):\n",
        "  predicted = BTfinder.predict(np.reshape(y_t[i], (1, 256, 256, 1)))\n",
        "  predicted = np.reshape(predicted, (256, 256))\n",
        "  predicted = predicted.astype(np.float32) * 255\n",
        "  cv2.imwrite('/content/drive/MyDrive/Python/Datasets/Brain_Tumor/predicted/y{}.png'.format(i), predicted)"
      ],
      "metadata": {
        "id": "OudkG6hcM1SE"
      },
      "execution_count": 7,
      "outputs": []
    },
    {
      "cell_type": "code",
      "source": [
        "BTfinder.save('/content/drive/MyDrive/Python/Datasets/Brain_Tumor/Br35H-Mask-RCNN/')"
      ],
      "metadata": {
        "colab": {
          "base_uri": "https://localhost:8080/"
        },
        "id": "_OX7Jb-QQ_pD",
        "outputId": "9d42cec4-80c7-4fc6-e2da-e1ba243d7896"
      },
      "execution_count": 8,
      "outputs": [
        {
          "output_type": "stream",
          "name": "stdout",
          "text": [
            "INFO:tensorflow:Assets written to: /content/drive/MyDrive/Python/Datasets/Brain_Tumor/Br35H-Mask-RCNN/assets\n"
          ]
        }
      ]
    }
  ]
}