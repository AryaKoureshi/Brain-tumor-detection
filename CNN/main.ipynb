{
 "cells": [
  {
   "cell_type": "code",
   "execution_count": 1,
   "id": "49772ba3",
   "metadata": {},
   "outputs": [],
   "source": [
    "# imports\n",
    "import cv2\n",
    "import glob\n",
    "import skimage.transform as trans\n",
    "import numpy as np\n",
    "import sys\n",
    "import matplotlib.pyplot as plt\n",
    "sys.path.insert(1, 'D:/BTproject/CNN/')\n",
    "import model\n",
    "from tensorflow.keras.models import save_model"
   ]
  },
  {
   "cell_type": "code",
   "execution_count": 2,
   "id": "e2935bc9",
   "metadata": {},
   "outputs": [],
   "source": [
    "# loading data\n",
    "x_train = []\n",
    "y_train = []\n",
    "x_test = []\n",
    "y_test = []\n",
    "\n",
    "path = \"D:/BTproject/Dataset/no/\"\n",
    "images = glob.glob(path + \"*.jpg\")\n",
    "images.sort()\n",
    "for x in images:\n",
    "   image = cv2.imread(x, cv2.IMREAD_GRAYSCALE)\n",
    "   image = image / 255\n",
    "   image = trans.resize(image,(256,256))\n",
    "   y_train.append(0)\n",
    "   x_train.append(image)\n",
    "\n",
    "path = \"D:/BTproject/Dataset/yes/\"\n",
    "images = glob.glob(path + \"*.jpg\")\n",
    "images.sort()\n",
    "for x in images:\n",
    "   image = cv2.imread(x, cv2.IMREAD_GRAYSCALE)\n",
    "   image = image / 255\n",
    "   image = trans.resize(image,(256,256))\n",
    "   y_train.append(1)\n",
    "   x_train.append(image)\n",
    "\n",
    "path = \"D:/BTproject/Dataset/test/no/\"\n",
    "images = glob.glob(path + \"*.jpg\")\n",
    "images.sort()\n",
    "for x in images:\n",
    "   image = cv2.imread(x, cv2.IMREAD_GRAYSCALE)\n",
    "   image = image / 255\n",
    "   image = trans.resize(image,(256,256))\n",
    "   y_test.append(0)\n",
    "   x_test.append(image)\n",
    "\n",
    "path = \"D:/BTproject/Dataset/test/yes/\"\n",
    "images = glob.glob(path + \"*.jpg\")\n",
    "images.sort()\n",
    "for x in images:\n",
    "   image = cv2.imread(x, cv2.IMREAD_GRAYSCALE)\n",
    "   image = image / 255\n",
    "   image = trans.resize(image,(256,256))\n",
    "   y_test.append(1)\n",
    "   x_test.append(image)\n",
    "   \n",
    "del(x, image, images, path)"
   ]
  },
  {
   "cell_type": "code",
   "execution_count": 3,
   "id": "c4d8ed99",
   "metadata": {},
   "outputs": [],
   "source": [
    "# preparing data\n",
    "x_train = np.array(x_train)\n",
    "y_train = np.array(y_train)\n",
    "x_test = np.array(x_test)\n",
    "y_test = np.array(y_test)\n",
    "x_train = np.reshape(x_train, (len(x_train), 256, 256, 1))\n",
    "x_test = np.reshape(x_test, (len(x_test), 256, 256, 1))"
   ]
  },
  {
   "cell_type": "code",
   "execution_count": 4,
   "id": "244fbbfb",
   "metadata": {},
   "outputs": [
    {
     "name": "stdout",
     "output_type": "stream",
     "text": [
      "Model: \"sequential\"\n",
      "_________________________________________________________________\n",
      " Layer (type)                Output Shape              Param #   \n",
      "=================================================================\n",
      " conv2d (Conv2D)             (None, 256, 256, 32)      544       \n",
      "                                                                 \n",
      " max_pooling2d (MaxPooling2D  (None, 128, 128, 32)     0         \n",
      " )                                                               \n",
      "                                                                 \n",
      " dropout (Dropout)           (None, 128, 128, 32)      0         \n",
      "                                                                 \n",
      " conv2d_1 (Conv2D)           (None, 128, 128, 32)      16416     \n",
      "                                                                 \n",
      " max_pooling2d_1 (MaxPooling  (None, 64, 64, 32)       0         \n",
      " 2D)                                                             \n",
      "                                                                 \n",
      " dropout_1 (Dropout)         (None, 64, 64, 32)        0         \n",
      "                                                                 \n",
      " conv2d_2 (Conv2D)           (None, 64, 64, 64)        32832     \n",
      "                                                                 \n",
      " max_pooling2d_2 (MaxPooling  (None, 32, 32, 64)       0         \n",
      " 2D)                                                             \n",
      "                                                                 \n",
      " dropout_2 (Dropout)         (None, 32, 32, 64)        0         \n",
      "                                                                 \n",
      " flatten (Flatten)           (None, 65536)             0         \n",
      "                                                                 \n",
      " dense (Dense)               (None, 128)               8388736   \n",
      "                                                                 \n",
      " dropout_3 (Dropout)         (None, 128)               0         \n",
      "                                                                 \n",
      " dense_1 (Dense)             (None, 1)                 129       \n",
      "                                                                 \n",
      "=================================================================\n",
      "Total params: 8,438,657\n",
      "Trainable params: 8,438,657\n",
      "Non-trainable params: 0\n",
      "_________________________________________________________________\n",
      "Epoch 1/15\n",
      "750/750 [==============================] - 34s 30ms/step - loss: 0.4532 - acc: 0.8103 0s - loss: 0.4543\n",
      "Epoch 2/15\n",
      "750/750 [==============================] - 23s 30ms/step - loss: 0.2191 - acc: 0.9187\n",
      "Epoch 3/15\n",
      "750/750 [==============================] - 23s 31ms/step - loss: 0.1333 - acc: 0.9537 1\n",
      "Epoch 4/15\n",
      "750/750 [==============================] - 23s 30ms/step - loss: 0.0749 - acc: 0.9737\n",
      "Epoch 5/15\n",
      "750/750 [==============================] - 25s 33ms/step - loss: 0.0710 - acc: 0.9773\n",
      "Epoch 6/15\n",
      "750/750 [==============================] - 23s 30ms/step - loss: 0.0506 - acc: 0.9837\n",
      "Epoch 7/15\n",
      "750/750 [==============================] - 23s 30ms/step - loss: 0.0131 - acc: 0.9953\n",
      "Epoch 8/15\n",
      "750/750 [==============================] - 23s 30ms/step - loss: 0.0357 - acc: 0.9897 0s - loss: 0.03\n",
      "Epoch 9/15\n",
      "750/750 [==============================] - 23s 31ms/step - loss: 0.0262 - acc: 0.9903\n",
      "Epoch 10/15\n",
      "750/750 [==============================] - 23s 30ms/step - loss: 0.0396 - acc: 0.9877\n",
      "Epoch 11/15\n",
      "750/750 [==============================] - 23s 30ms/step - loss: 0.0166 - acc: 0.9947\n",
      "Epoch 12/15\n",
      "750/750 [==============================] - 23s 30ms/step - loss: 0.0390 - acc: 0.9870\n",
      "Epoch 13/15\n",
      "750/750 [==============================] - 23s 30ms/step - loss: 0.0179 - acc: 0.9943\n",
      "Epoch 14/15\n",
      "750/750 [==============================] - 23s 30ms/step - loss: 0.0208 - acc: 0.9940\n",
      "Epoch 15/15\n",
      "750/750 [==============================] - 23s 30ms/step - loss: 0.0285 - acc: 0.9943\n"
     ]
    }
   ],
   "source": [
    "# train model\n",
    "BTdetector = model.cnn_bt()\n",
    "BTdetector.summary()\n",
    "\n",
    "history = BTdetector.fit(x_train,\n",
    "                         y_train,\n",
    "                         epochs=15,\n",
    "                         batch_size=4,\n",
    "                         verbose=1)"
   ]
  },
  {
   "cell_type": "code",
   "execution_count": 5,
   "id": "18d79a14",
   "metadata": {},
   "outputs": [],
   "source": [
    "# save the model\n",
    "save_model(BTdetector, 'D:/BTproject/CNN/BTdetectorModel.h5')"
   ]
  },
  {
   "cell_type": "code",
   "execution_count": 6,
   "id": "838f9dc1",
   "metadata": {},
   "outputs": [],
   "source": [
    "# save weights of the model\n",
    "BTdetector.save_weights('D:/BTproject/CNN/weights.hdf5')"
   ]
  },
  {
   "cell_type": "code",
   "execution_count": 7,
   "id": "04f27d87",
   "metadata": {},
   "outputs": [],
   "source": [
    "# evaluate the model on test set\n",
    "score = BTdetector.evaluate(x_test,\n",
    "                            y_test,\n",
    "                            verbose=0)"
   ]
  },
  {
   "cell_type": "code",
   "execution_count": 8,
   "id": "8e91df21",
   "metadata": {},
   "outputs": [
    {
     "name": "stdout",
     "output_type": "stream",
     "text": [
      "\n",
      " Test accuracy: 0.9959183931350708\n"
     ]
    }
   ],
   "source": [
    "# print test accuracy\n",
    "print('\\n', 'Test accuracy:', score[1])"
   ]
  },
  {
   "cell_type": "code",
   "execution_count": 16,
   "id": "7552321f",
   "metadata": {},
   "outputs": [
    {
     "name": "stdout",
     "output_type": "stream",
     "text": [
      "dict_keys(['loss', 'acc'])\n"
     ]
    }
   ],
   "source": [
    "# list all data in history\n",
    "print(history.history.keys())"
   ]
  },
  {
   "cell_type": "code",
   "execution_count": 13,
   "id": "d1494d97",
   "metadata": {},
   "outputs": [
    {
     "data": {
      "image/png": "[encoded data removed]",
      "text/plain": [
       "<Figure size 432x288 with 1 Axes>"
      ]
     },
     "metadata": {
      "needs_background": "light"
     },
     "output_type": "display_data"
    }
   ],
   "source": [
    "# summarize history for accuracy\n",
    "plt.plot(history.history['acc'])\n",
    "plt.title('model accuracy')\n",
    "plt.ylabel('accuracy')\n",
    "plt.xlabel('epoch')\n",
    "plt.legend(['train'], loc='upper left')\n",
    "plt.show()"
   ]
  },
  {
   "cell_type": "code",
   "execution_count": 14,
   "id": "ae846411",
   "metadata": {},
   "outputs": [
    {
     "data": {
      "image/png": "[encoded data removed]",
      "text/plain": [
       "<Figure size 432x288 with 1 Axes>"
      ]
     },
     "metadata": {
      "needs_background": "light"
     },
     "output_type": "display_data"
    }
   ],
   "source": [
    "# summarize history for loss\n",
    "plt.plot(history.history['loss'])\n",
    "plt.title('model loss')\n",
    "plt.ylabel('loss')\n",
    "plt.xlabel('epoch')\n",
    "plt.legend(['train'], loc='upper left')\n",
    "plt.show()"
   ]
  },
  {
   "cell_type": "code",
   "execution_count": null,
   "id": "01b1d382",
   "metadata": {},
   "outputs": [],
   "source": []
  }
 ],
 "metadata": {
  "kernelspec": {
   "display_name": "Python 3 (ipykernel)",
   "language": "python",
   "name": "python3"
  },
  "language_info": {
   "codemirror_mode": {
    "name": "ipython",
    "version": 3
   },
   "file_extension": ".py",
   "mimetype": "text/x-python",
   "name": "python",
   "nbconvert_exporter": "python",
   "pygments_lexer": "ipython3",
   "version": "3.9.7"
  }
 },
 "nbformat": 4,
 "nbformat_minor": 5
}
